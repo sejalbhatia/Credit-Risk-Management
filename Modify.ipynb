{
 "cells": [
  {
   "cell_type": "code",
   "execution_count": 2,
   "metadata": {},
   "outputs": [],
   "source": [
    "import pandas as pd\n",
    "import numpy as np\n",
    "from tabulate import tabulate\n",
    "import matplotlib.pyplot as plt\n",
    "from sklearn import preprocessing\n",
    "from sklearn.model_selection import train_test_split\n",
    "from sklearn.tree import DecisionTreeClassifier\n",
    "from xgboost import XGBClassifier\n",
    "from sklearn.neighbors import KNeighborsClassifier\n",
    "from sklearn.ensemble import RandomForestClassifier\n",
    "from sklearn.ensemble import AdaBoostClassifier\n",
    "from sklearn.metrics import roc_auc_score, confusion_matrix\n",
    "from sklearn.utils import resample"
   ]
  },
  {
   "cell_type": "code",
   "execution_count": 5,
   "metadata": {},
   "outputs": [
    {
     "name": "stdout",
     "output_type": "stream",
     "text": [
      "0    23364\n",
      "1     6636\n",
      "Name: default payment next month, dtype: int64\n"
     ]
    }
   ],
   "source": [
    "df = pd.read_excel(\"default of credit card clients.xls\")\n",
    "new_header = df.iloc[0] #grab the first row for the header\n",
    "df = df[1:] #take the data less the header row\n",
    "df.columns = new_header #set the header row as the df header\n",
    "df = df.drop(columns=[\"ID\"])\n",
    "le = preprocessing.LabelEncoder()\n",
    "print(df['default payment next month'].value_counts())\n",
    "#df[\"default payment next month\"] = le.fit_transform(df[\"default payment next month\"])\n",
    "df = df.apply(le.fit_transform)\n",
    "#print(df['default payment next month'].value_counts())\n",
    "#print(df.dtypes)"
   ]
  },
  {
   "cell_type": "code",
   "execution_count": 3,
   "metadata": {
    "scrolled": false
   },
   "outputs": [
    {
     "name": "stderr",
     "output_type": "stream",
     "text": [
      "C:\\Users\\Dell\\anaconda3\\lib\\site-packages\\xgboost\\sklearn.py:888: UserWarning: The use of label encoder in XGBClassifier is deprecated and will be removed in a future release. To remove this warning, do the following: 1) Pass option use_label_encoder=False when constructing XGBClassifier object; and 2) Encode your labels (y) as integers starting with 0, i.e. 0, 1, 2, ..., [num_class - 1].\n",
      "  warnings.warn(label_encoder_deprecation_msg, UserWarning)\n",
      "C:\\Users\\Dell\\anaconda3\\lib\\site-packages\\sklearn\\utils\\validation.py:73: DataConversionWarning: A column-vector y was passed when a 1d array was expected. Please change the shape of y to (n_samples, ), for example using ravel().\n",
      "  return f(**kwargs)\n"
     ]
    },
    {
     "name": "stdout",
     "output_type": "stream",
     "text": [
      "[19:49:24] WARNING: C:/Users/Administrator/workspace/xgboost-win64_release_1.3.0/src/learner.cc:1061: Starting in XGBoost 1.3.0, the default evaluation metric used with the objective 'binary:logistic' was changed from 'error' to 'logloss'. Explicitly set eval_metric if you'd like to restore the old behavior.\n"
     ]
    }
   ],
   "source": [
    "#XGB\n",
    "model = XGBClassifier(random_state = 42, n_estimators = 500, eta = 0.1, max_depth = 4)\n",
    "X = df.iloc[:,:-1].values\n",
    "y = df.iloc[:,-1:].values\n",
    "from sklearn.model_selection import train_test_split\n",
    "X_train, X_test, y_train, y_test = train_test_split(X,y,test_size= .3)\n",
    "model.fit(X_train,y_train)\n",
    "#predictions = model.predict(X_test)\n",
    "pred_prob1 = model.predict_proba(X_test)\n",
    "#auc_score1 = roc_auc_score(y_test, predictions, multi_class='ovr')\n",
    "#print(\"AUC score\",auc_score1)"
   ]
  },
  {
   "cell_type": "code",
   "execution_count": 4,
   "metadata": {},
   "outputs": [],
   "source": [
    "pred_prob = np.array(pred_prob1[:,1]*1000)\n",
    "index_values = list(range(0,len(pred_prob)))\n",
    "column_values = ['pred_prob']\n",
    "df_new = pd.DataFrame(data = pred_prob, \n",
    "                  index = index_values, \n",
    "                  columns = column_values)\n",
    "\n",
    "\n",
    "target = np.array(y_test).flatten()\n",
    "df_new['target'] = target\n",
    "df = df_new"
   ]
  },
  {
   "cell_type": "code",
   "execution_count": 5,
   "metadata": {},
   "outputs": [
    {
     "data": {
      "image/png": "[encoded data removed]",
      "text/plain": [
       "<Figure size 432x288 with 2 Axes>"
      ]
     },
     "metadata": {
      "needs_background": "light"
     },
     "output_type": "display_data"
    }
   ],
   "source": [
    "#hist = df.hist(bins=10)\n",
    "#upsampling\n",
    "#predict on training data\n",
    "#decision tree 8 leaf nodes....make excel"
   ]
  },
  {
   "cell_type": "code",
   "execution_count": 6,
   "metadata": {},
   "outputs": [],
   "source": [
    "df.to_csv('file1.csv')"
   ]
  },
  {
   "cell_type": "code",
   "execution_count": 7,
   "metadata": {},
   "outputs": [],
   "source": [
    "df900 = df[df['pred_prob']>900] #900-1000\n",
    "df1 = df[df['pred_prob']<=900]\n",
    "df800 = df1[df1['pred_prob']>800] #800-900\n",
    "df1 = df1[df1['pred_prob']<=800]\n",
    "df700 = df1[df1['pred_prob']>700] #700-800\n",
    "df1 = df1[df1['pred_prob']<=700]\n",
    "df600 = df1[df1['pred_prob']>600] #600-700\n",
    "df1 = df1[df1['pred_prob']<=600]\n",
    "df500 = df1[df1['pred_prob']>500] #500-600\n",
    "df1 = df1[df1['pred_prob']<=500]\n",
    "df400 = df1[df1['pred_prob']>400] #400-500\n",
    "df1 = df1[df1['pred_prob']<=400]\n",
    "df300 = df1[df1['pred_prob']>300] #300-400\n",
    "df1 = df1[df1['pred_prob']<=300]\n",
    "df200 = df1[df1['pred_prob']>200] #200-300\n",
    "df1 = df1[df1['pred_prob']<=200]\n",
    "df100 = df1[df1['pred_prob']>100] #100-200\n",
    "df0 = df1[df1['pred_prob']<=100] #0-100"
   ]
  },
  {
   "cell_type": "code",
   "execution_count": 8,
   "metadata": {},
   "outputs": [],
   "source": [
    "df900.to_csv('df900.csv')\n",
    "df800.to_csv('df800.csv')\n",
    "df700.to_csv('df700.csv')\n",
    "df600.to_csv('df600.csv')\n",
    "df500.to_csv('df500.csv')\n",
    "df400.to_csv('df400.csv')\n",
    "df300.to_csv('df300.csv')\n",
    "df200.to_csv('df200.csv')\n",
    "df100.to_csv('df100.csv')\n",
    "df0.to_csv('df0.csv')"
   ]
  },
  {
   "cell_type": "code",
   "execution_count": 9,
   "metadata": {},
   "outputs": [
    {
     "name": "stdout",
     "output_type": "stream",
     "text": [
      "Range       No of 0s    No of 1s\n",
      "--------  ----------  ----------\n",
      "900-1000           8          30\n",
      "800-900           46         149\n",
      "700-800           92         209\n",
      "600-700          118         223\n",
      "500-600          136         153\n",
      "400-500          204         144\n",
      "300-400          401         193\n",
      "200-300          861         258\n",
      "100-200         2246         387\n",
      "0-100           2901         241\n"
     ]
    }
   ],
   "source": [
    "table = [['Range', 'No of 0s', 'No of 1s'], \n",
    "         ['900-1000', (df900['target']==0).sum(), (df900['target']==1).sum()], \n",
    "         ['800-900', (df800['target']==0).sum(), (df800['target']==1).sum()], \n",
    "         ['700-800', (df700['target']==0).sum(), (df700['target']==1).sum()], \n",
    "         ['600-700', (df600['target']==0).sum(), (df600['target']==1).sum()], \n",
    "         ['500-600', (df500['target']==0).sum(), (df500['target']==1).sum()], \n",
    "         ['400-500', (df400['target']==0).sum(), (df400['target']==1).sum()], \n",
    "         ['300-400', (df300['target']==0).sum(), (df300['target']==1).sum()], \n",
    "         ['200-300', (df200['target']==0).sum(), (df200['target']==1).sum()], \n",
    "         ['100-200', (df100['target']==0).sum(), (df100['target']==1).sum()], \n",
    "         ['0-100', (df0['target']==0).sum(), (df0['target']==1).sum()]]\n",
    "print(tabulate(table, headers='firstrow'))"
   ]
  },
  {
   "cell_type": "code",
   "execution_count": 10,
   "metadata": {},
   "outputs": [
    {
     "data": {
      "text/plain": [
       "0.1     43.624905\n",
       "0.2     66.078510\n",
       "0.3     87.590025\n",
       "0.4    113.288902\n",
       "0.5    142.508385\n",
       "0.6    178.359808\n",
       "0.7    233.258534\n",
       "0.8    341.202332\n",
       "0.9    588.315906\n",
       "Name: pred_prob, dtype: float64"
      ]
     },
     "execution_count": 10,
     "metadata": {},
     "output_type": "execute_result"
    }
   ],
   "source": [
    "df['pred_prob'].quantile(np.linspace(.1, 1, 9, 0))"
   ]
  },
  {
   "cell_type": "code",
   "execution_count": null,
   "metadata": {},
   "outputs": [],
   "source": [
    "# original dataset = A\n",
    "#split A in training R and testing E\n",
    "#upsample(R_train) based on dataset R(y_train)->new U(should have more than 21K) dataset\n",
    "#downsample(R_train) based on dataset R(y_train)->new D dataset\n",
    "#run 10 fold on U and D and pick best algo and dataset B\n",
    "#run Xgboost(or best algo), histogram, percentile on B"
   ]
  }
 ],
 "metadata": {
  "kernelspec": {
   "display_name": "Python 3 (ipykernel)",
   "language": "python",
   "name": "python3"
  },
  "language_info": {
   "codemirror_mode": {
    "name": "ipython",
    "version": 3
   },
   "file_extension": ".py",
   "mimetype": "text/x-python",
   "name": "python",
   "nbconvert_exporter": "python",
   "pygments_lexer": "ipython3",
   "version": "3.9.12"
  }
 },
 "nbformat": 4,
 "nbformat_minor": 4
}
